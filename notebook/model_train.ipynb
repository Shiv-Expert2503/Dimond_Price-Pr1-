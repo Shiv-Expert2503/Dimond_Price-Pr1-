{
 "cells": [
  {
   "cell_type": "code",
   "execution_count": 30,
   "id": "initial_id",
   "metadata": {
    "collapsed": true,
    "ExecuteTime": {
     "end_time": "2023-10-23T14:05:18.547380600Z",
     "start_time": "2023-10-23T14:05:18.486846Z"
    }
   },
   "outputs": [],
   "source": [
    "import pandas as pd\n",
    "import numpy as np"
   ]
  },
  {
   "cell_type": "code",
   "execution_count": 2,
   "outputs": [],
   "source": [
    "df=pd.read_csv('data/gemstone.csv')"
   ],
   "metadata": {
    "collapsed": false,
    "ExecuteTime": {
     "end_time": "2023-10-23T13:35:07.744039100Z",
     "start_time": "2023-10-23T13:35:07.382974700Z"
    }
   },
   "id": "1caac6c22966a715"
  },
  {
   "cell_type": "code",
   "execution_count": 3,
   "outputs": [
    {
     "data": {
      "text/plain": "   id  carat        cut color clarity  depth  table     x     y     z  price\n0   0   1.52    Premium     F     VS2   62.2   58.0  7.27  7.33  4.55  13619\n1   1   2.03  Very Good     J     SI2   62.0   58.0  8.06  8.12  5.05  13387\n2   2   0.70      Ideal     G     VS1   61.2   57.0  5.69  5.73  3.50   2772\n3   3   0.32      Ideal     G     VS1   61.6   56.0  4.38  4.41  2.71    666\n4   4   1.70    Premium     G     VS2   62.6   59.0  7.65  7.61  4.77  14453",
      "text/html": "<div>\n<style scoped>\n    .dataframe tbody tr th:only-of-type {\n        vertical-align: middle;\n    }\n\n    .dataframe tbody tr th {\n        vertical-align: top;\n    }\n\n    .dataframe thead th {\n        text-align: right;\n    }\n</style>\n<table border=\"1\" class=\"dataframe\">\n  <thead>\n    <tr style=\"text-align: right;\">\n      <th></th>\n      <th>id</th>\n      <th>carat</th>\n      <th>cut</th>\n      <th>color</th>\n      <th>clarity</th>\n      <th>depth</th>\n      <th>table</th>\n      <th>x</th>\n      <th>y</th>\n      <th>z</th>\n      <th>price</th>\n    </tr>\n  </thead>\n  <tbody>\n    <tr>\n      <th>0</th>\n      <td>0</td>\n      <td>1.52</td>\n      <td>Premium</td>\n      <td>F</td>\n      <td>VS2</td>\n      <td>62.2</td>\n      <td>58.0</td>\n      <td>7.27</td>\n      <td>7.33</td>\n      <td>4.55</td>\n      <td>13619</td>\n    </tr>\n    <tr>\n      <th>1</th>\n      <td>1</td>\n      <td>2.03</td>\n      <td>Very Good</td>\n      <td>J</td>\n      <td>SI2</td>\n      <td>62.0</td>\n      <td>58.0</td>\n      <td>8.06</td>\n      <td>8.12</td>\n      <td>5.05</td>\n      <td>13387</td>\n    </tr>\n    <tr>\n      <th>2</th>\n      <td>2</td>\n      <td>0.70</td>\n      <td>Ideal</td>\n      <td>G</td>\n      <td>VS1</td>\n      <td>61.2</td>\n      <td>57.0</td>\n      <td>5.69</td>\n      <td>5.73</td>\n      <td>3.50</td>\n      <td>2772</td>\n    </tr>\n    <tr>\n      <th>3</th>\n      <td>3</td>\n      <td>0.32</td>\n      <td>Ideal</td>\n      <td>G</td>\n      <td>VS1</td>\n      <td>61.6</td>\n      <td>56.0</td>\n      <td>4.38</td>\n      <td>4.41</td>\n      <td>2.71</td>\n      <td>666</td>\n    </tr>\n    <tr>\n      <th>4</th>\n      <td>4</td>\n      <td>1.70</td>\n      <td>Premium</td>\n      <td>G</td>\n      <td>VS2</td>\n      <td>62.6</td>\n      <td>59.0</td>\n      <td>7.65</td>\n      <td>7.61</td>\n      <td>4.77</td>\n      <td>14453</td>\n    </tr>\n  </tbody>\n</table>\n</div>"
     },
     "execution_count": 3,
     "metadata": {},
     "output_type": "execute_result"
    }
   ],
   "source": [
    "df.head()"
   ],
   "metadata": {
    "collapsed": false,
    "ExecuteTime": {
     "end_time": "2023-10-23T13:35:13.263680500Z",
     "start_time": "2023-10-23T13:35:13.190844400Z"
    }
   },
   "id": "1223cfb31d64de2"
  },
  {
   "cell_type": "code",
   "execution_count": 6,
   "outputs": [],
   "source": [
    "df=df.drop('id',axis=1)"
   ],
   "metadata": {
    "collapsed": false,
    "ExecuteTime": {
     "end_time": "2023-10-23T13:36:09.915500900Z",
     "start_time": "2023-10-23T13:36:09.843141100Z"
    }
   },
   "id": "5450f7805abf0d0b"
  },
  {
   "cell_type": "code",
   "execution_count": 7,
   "outputs": [
    {
     "data": {
      "text/plain": "   carat        cut color clarity  depth  table     x     y     z  price\n0   1.52    Premium     F     VS2   62.2   58.0  7.27  7.33  4.55  13619\n1   2.03  Very Good     J     SI2   62.0   58.0  8.06  8.12  5.05  13387\n2   0.70      Ideal     G     VS1   61.2   57.0  5.69  5.73  3.50   2772\n3   0.32      Ideal     G     VS1   61.6   56.0  4.38  4.41  2.71    666\n4   1.70    Premium     G     VS2   62.6   59.0  7.65  7.61  4.77  14453",
      "text/html": "<div>\n<style scoped>\n    .dataframe tbody tr th:only-of-type {\n        vertical-align: middle;\n    }\n\n    .dataframe tbody tr th {\n        vertical-align: top;\n    }\n\n    .dataframe thead th {\n        text-align: right;\n    }\n</style>\n<table border=\"1\" class=\"dataframe\">\n  <thead>\n    <tr style=\"text-align: right;\">\n      <th></th>\n      <th>carat</th>\n      <th>cut</th>\n      <th>color</th>\n      <th>clarity</th>\n      <th>depth</th>\n      <th>table</th>\n      <th>x</th>\n      <th>y</th>\n      <th>z</th>\n      <th>price</th>\n    </tr>\n  </thead>\n  <tbody>\n    <tr>\n      <th>0</th>\n      <td>1.52</td>\n      <td>Premium</td>\n      <td>F</td>\n      <td>VS2</td>\n      <td>62.2</td>\n      <td>58.0</td>\n      <td>7.27</td>\n      <td>7.33</td>\n      <td>4.55</td>\n      <td>13619</td>\n    </tr>\n    <tr>\n      <th>1</th>\n      <td>2.03</td>\n      <td>Very Good</td>\n      <td>J</td>\n      <td>SI2</td>\n      <td>62.0</td>\n      <td>58.0</td>\n      <td>8.06</td>\n      <td>8.12</td>\n      <td>5.05</td>\n      <td>13387</td>\n    </tr>\n    <tr>\n      <th>2</th>\n      <td>0.70</td>\n      <td>Ideal</td>\n      <td>G</td>\n      <td>VS1</td>\n      <td>61.2</td>\n      <td>57.0</td>\n      <td>5.69</td>\n      <td>5.73</td>\n      <td>3.50</td>\n      <td>2772</td>\n    </tr>\n    <tr>\n      <th>3</th>\n      <td>0.32</td>\n      <td>Ideal</td>\n      <td>G</td>\n      <td>VS1</td>\n      <td>61.6</td>\n      <td>56.0</td>\n      <td>4.38</td>\n      <td>4.41</td>\n      <td>2.71</td>\n      <td>666</td>\n    </tr>\n    <tr>\n      <th>4</th>\n      <td>1.70</td>\n      <td>Premium</td>\n      <td>G</td>\n      <td>VS2</td>\n      <td>62.6</td>\n      <td>59.0</td>\n      <td>7.65</td>\n      <td>7.61</td>\n      <td>4.77</td>\n      <td>14453</td>\n    </tr>\n  </tbody>\n</table>\n</div>"
     },
     "execution_count": 7,
     "metadata": {},
     "output_type": "execute_result"
    }
   ],
   "source": [
    "df.head()"
   ],
   "metadata": {
    "collapsed": false,
    "ExecuteTime": {
     "end_time": "2023-10-23T13:36:10.900270Z",
     "start_time": "2023-10-23T13:36:10.852554500Z"
    }
   },
   "id": "b6fa69c4253c3f66"
  },
  {
   "cell_type": "code",
   "execution_count": 8,
   "outputs": [],
   "source": [
    "x=df.drop('price',axis=1)\n",
    "y=df[['price']]"
   ],
   "metadata": {
    "collapsed": false,
    "ExecuteTime": {
     "end_time": "2023-10-23T13:36:51.455613900Z",
     "start_time": "2023-10-23T13:36:51.385976600Z"
    }
   },
   "id": "2dc49b284779386b"
  },
  {
   "cell_type": "code",
   "execution_count": 9,
   "outputs": [
    {
     "data": {
      "text/plain": "        carat        cut color clarity  depth  table     x     y     z\n0        1.52    Premium     F     VS2   62.2   58.0  7.27  7.33  4.55\n1        2.03  Very Good     J     SI2   62.0   58.0  8.06  8.12  5.05\n2        0.70      Ideal     G     VS1   61.2   57.0  5.69  5.73  3.50\n3        0.32      Ideal     G     VS1   61.6   56.0  4.38  4.41  2.71\n4        1.70    Premium     G     VS2   62.6   59.0  7.65  7.61  4.77\n...       ...        ...   ...     ...    ...    ...   ...   ...   ...\n193568   0.31      Ideal     D    VVS2   61.1   56.0  4.35  4.39  2.67\n193569   0.70    Premium     G    VVS2   60.3   58.0  5.75  5.77  3.47\n193570   0.73  Very Good     F     SI1   63.1   57.0  5.72  5.75  3.62\n193571   0.34  Very Good     D     SI1   62.9   55.0  4.45  4.49  2.81\n193572   0.71       Good     E     SI2   60.8   64.0  5.73  5.71  3.48\n\n[193573 rows x 9 columns]",
      "text/html": "<div>\n<style scoped>\n    .dataframe tbody tr th:only-of-type {\n        vertical-align: middle;\n    }\n\n    .dataframe tbody tr th {\n        vertical-align: top;\n    }\n\n    .dataframe thead th {\n        text-align: right;\n    }\n</style>\n<table border=\"1\" class=\"dataframe\">\n  <thead>\n    <tr style=\"text-align: right;\">\n      <th></th>\n      <th>carat</th>\n      <th>cut</th>\n      <th>color</th>\n      <th>clarity</th>\n      <th>depth</th>\n      <th>table</th>\n      <th>x</th>\n      <th>y</th>\n      <th>z</th>\n    </tr>\n  </thead>\n  <tbody>\n    <tr>\n      <th>0</th>\n      <td>1.52</td>\n      <td>Premium</td>\n      <td>F</td>\n      <td>VS2</td>\n      <td>62.2</td>\n      <td>58.0</td>\n      <td>7.27</td>\n      <td>7.33</td>\n      <td>4.55</td>\n    </tr>\n    <tr>\n      <th>1</th>\n      <td>2.03</td>\n      <td>Very Good</td>\n      <td>J</td>\n      <td>SI2</td>\n      <td>62.0</td>\n      <td>58.0</td>\n      <td>8.06</td>\n      <td>8.12</td>\n      <td>5.05</td>\n    </tr>\n    <tr>\n      <th>2</th>\n      <td>0.70</td>\n      <td>Ideal</td>\n      <td>G</td>\n      <td>VS1</td>\n      <td>61.2</td>\n      <td>57.0</td>\n      <td>5.69</td>\n      <td>5.73</td>\n      <td>3.50</td>\n    </tr>\n    <tr>\n      <th>3</th>\n      <td>0.32</td>\n      <td>Ideal</td>\n      <td>G</td>\n      <td>VS1</td>\n      <td>61.6</td>\n      <td>56.0</td>\n      <td>4.38</td>\n      <td>4.41</td>\n      <td>2.71</td>\n    </tr>\n    <tr>\n      <th>4</th>\n      <td>1.70</td>\n      <td>Premium</td>\n      <td>G</td>\n      <td>VS2</td>\n      <td>62.6</td>\n      <td>59.0</td>\n      <td>7.65</td>\n      <td>7.61</td>\n      <td>4.77</td>\n    </tr>\n    <tr>\n      <th>...</th>\n      <td>...</td>\n      <td>...</td>\n      <td>...</td>\n      <td>...</td>\n      <td>...</td>\n      <td>...</td>\n      <td>...</td>\n      <td>...</td>\n      <td>...</td>\n    </tr>\n    <tr>\n      <th>193568</th>\n      <td>0.31</td>\n      <td>Ideal</td>\n      <td>D</td>\n      <td>VVS2</td>\n      <td>61.1</td>\n      <td>56.0</td>\n      <td>4.35</td>\n      <td>4.39</td>\n      <td>2.67</td>\n    </tr>\n    <tr>\n      <th>193569</th>\n      <td>0.70</td>\n      <td>Premium</td>\n      <td>G</td>\n      <td>VVS2</td>\n      <td>60.3</td>\n      <td>58.0</td>\n      <td>5.75</td>\n      <td>5.77</td>\n      <td>3.47</td>\n    </tr>\n    <tr>\n      <th>193570</th>\n      <td>0.73</td>\n      <td>Very Good</td>\n      <td>F</td>\n      <td>SI1</td>\n      <td>63.1</td>\n      <td>57.0</td>\n      <td>5.72</td>\n      <td>5.75</td>\n      <td>3.62</td>\n    </tr>\n    <tr>\n      <th>193571</th>\n      <td>0.34</td>\n      <td>Very Good</td>\n      <td>D</td>\n      <td>SI1</td>\n      <td>62.9</td>\n      <td>55.0</td>\n      <td>4.45</td>\n      <td>4.49</td>\n      <td>2.81</td>\n    </tr>\n    <tr>\n      <th>193572</th>\n      <td>0.71</td>\n      <td>Good</td>\n      <td>E</td>\n      <td>SI2</td>\n      <td>60.8</td>\n      <td>64.0</td>\n      <td>5.73</td>\n      <td>5.71</td>\n      <td>3.48</td>\n    </tr>\n  </tbody>\n</table>\n<p>193573 rows × 9 columns</p>\n</div>"
     },
     "execution_count": 9,
     "metadata": {},
     "output_type": "execute_result"
    }
   ],
   "source": [
    "x"
   ],
   "metadata": {
    "collapsed": false,
    "ExecuteTime": {
     "end_time": "2023-10-23T13:36:53.593526200Z",
     "start_time": "2023-10-23T13:36:53.500717300Z"
    }
   },
   "id": "fda281d6e768e4a1"
  },
  {
   "cell_type": "code",
   "execution_count": 10,
   "outputs": [
    {
     "data": {
      "text/plain": "        price\n0       13619\n1       13387\n2        2772\n3         666\n4       14453\n...       ...\n193568   1130\n193569   2874\n193570   3036\n193571    681\n193572   2258\n\n[193573 rows x 1 columns]",
      "text/html": "<div>\n<style scoped>\n    .dataframe tbody tr th:only-of-type {\n        vertical-align: middle;\n    }\n\n    .dataframe tbody tr th {\n        vertical-align: top;\n    }\n\n    .dataframe thead th {\n        text-align: right;\n    }\n</style>\n<table border=\"1\" class=\"dataframe\">\n  <thead>\n    <tr style=\"text-align: right;\">\n      <th></th>\n      <th>price</th>\n    </tr>\n  </thead>\n  <tbody>\n    <tr>\n      <th>0</th>\n      <td>13619</td>\n    </tr>\n    <tr>\n      <th>1</th>\n      <td>13387</td>\n    </tr>\n    <tr>\n      <th>2</th>\n      <td>2772</td>\n    </tr>\n    <tr>\n      <th>3</th>\n      <td>666</td>\n    </tr>\n    <tr>\n      <th>4</th>\n      <td>14453</td>\n    </tr>\n    <tr>\n      <th>...</th>\n      <td>...</td>\n    </tr>\n    <tr>\n      <th>193568</th>\n      <td>1130</td>\n    </tr>\n    <tr>\n      <th>193569</th>\n      <td>2874</td>\n    </tr>\n    <tr>\n      <th>193570</th>\n      <td>3036</td>\n    </tr>\n    <tr>\n      <th>193571</th>\n      <td>681</td>\n    </tr>\n    <tr>\n      <th>193572</th>\n      <td>2258</td>\n    </tr>\n  </tbody>\n</table>\n<p>193573 rows × 1 columns</p>\n</div>"
     },
     "execution_count": 10,
     "metadata": {},
     "output_type": "execute_result"
    }
   ],
   "source": [
    "y"
   ],
   "metadata": {
    "collapsed": false,
    "ExecuteTime": {
     "end_time": "2023-10-23T13:36:56.008507Z",
     "start_time": "2023-10-23T13:36:55.984897Z"
    }
   },
   "id": "f500d86d8e8207e4"
  },
  {
   "cell_type": "markdown",
   "source": [
    "## Changing numerical and categorical columns"
   ],
   "metadata": {
    "collapsed": false
   },
   "id": "8fa824a91917af67"
  },
  {
   "cell_type": "code",
   "execution_count": 11,
   "outputs": [],
   "source": [
    "cat_col=x.select_dtypes(include='object').columns\n",
    "num_col=x.select_dtypes(exclude='object').columns"
   ],
   "metadata": {
    "collapsed": false,
    "ExecuteTime": {
     "end_time": "2023-10-23T13:38:39.956567500Z",
     "start_time": "2023-10-23T13:38:39.879885Z"
    }
   },
   "id": "f6c149e7fbc3b590"
  },
  {
   "cell_type": "code",
   "execution_count": 12,
   "outputs": [
    {
     "data": {
      "text/plain": "Index(['cut', 'color', 'clarity'], dtype='object')"
     },
     "execution_count": 12,
     "metadata": {},
     "output_type": "execute_result"
    }
   ],
   "source": [
    "cat_col"
   ],
   "metadata": {
    "collapsed": false,
    "ExecuteTime": {
     "end_time": "2023-10-23T13:38:42.770648400Z",
     "start_time": "2023-10-23T13:38:42.721557600Z"
    }
   },
   "id": "bfbb73f0daf46b55"
  },
  {
   "cell_type": "code",
   "execution_count": 13,
   "outputs": [
    {
     "data": {
      "text/plain": "Index(['carat', 'depth', 'table', 'x', 'y', 'z'], dtype='object')"
     },
     "execution_count": 13,
     "metadata": {},
     "output_type": "execute_result"
    }
   ],
   "source": [
    "num_col"
   ],
   "metadata": {
    "collapsed": false,
    "ExecuteTime": {
     "end_time": "2023-10-23T13:38:46.631089500Z",
     "start_time": "2023-10-23T13:38:46.580142300Z"
    }
   },
   "id": "827dbebe7020aaa"
  },
  {
   "cell_type": "markdown",
   "source": [
    "## Increasing order of rating"
   ],
   "metadata": {
    "collapsed": false
   },
   "id": "a933e4e8909284ab"
  },
  {
   "cell_type": "code",
   "execution_count": 20,
   "outputs": [],
   "source": [
    "cut_cat=['Fair','Good','Very Good','Premium','Ideal']\n",
    "col_cat=['D','E','F','G','H','I','J']\n",
    "cla_cat=['I1','SI2','SI1','VS2','VS1','VVS2','VVS1','IF']"
   ],
   "metadata": {
    "collapsed": false,
    "ExecuteTime": {
     "end_time": "2023-10-23T14:00:42.368981900Z",
     "start_time": "2023-10-23T14:00:42.344567100Z"
    }
   },
   "id": "4f9e8195eb6a5dfe"
  },
  {
   "cell_type": "code",
   "execution_count": 21,
   "outputs": [],
   "source": [
    "from sklearn.impute import SimpleImputer\n",
    "from sklearn.preprocessing import StandardScaler,OrdinalEncoder\n",
    "\n",
    "from sklearn.pipeline import Pipeline\n",
    "from sklearn.compose  import ColumnTransformer"
   ],
   "metadata": {
    "collapsed": false,
    "ExecuteTime": {
     "end_time": "2023-10-23T14:00:43.028022600Z",
     "start_time": "2023-10-23T14:00:43.000607600Z"
    }
   },
   "id": "e537f2c7e4810512"
  },
  {
   "cell_type": "code",
   "execution_count": 22,
   "outputs": [],
   "source": [
    "num_pipeline=Pipeline(\n",
    "    steps=[\n",
    "        ('imputer',SimpleImputer(strategy='median')),\n",
    "        ('scaler',StandardScaler())\n",
    "    ]\n",
    ")\n",
    "\n",
    "cat_pipeline=Pipeline(\n",
    "    steps=[\n",
    "        ('imputer',SimpleImputer(strategy='most_frequent')),\n",
    "        ('ordinalencoder',OrdinalEncoder(categories=[cut_cat,col_cat,cla_cat])),\n",
    "        ('scaler',StandardScaler())\n",
    "    ]\n",
    ")"
   ],
   "metadata": {
    "collapsed": false,
    "ExecuteTime": {
     "end_time": "2023-10-23T14:00:43.593272400Z",
     "start_time": "2023-10-23T14:00:43.560727700Z"
    }
   },
   "id": "eb3acc1c3828a3ce"
  },
  {
   "cell_type": "code",
   "execution_count": 23,
   "outputs": [],
   "source": [
    "preprocessor=ColumnTransformer([\n",
    "    ('num_pipeline',num_pipeline,num_col),\n",
    "    ('cat_pipeline',cat_pipeline,cat_col)\n",
    "])"
   ],
   "metadata": {
    "collapsed": false,
    "ExecuteTime": {
     "end_time": "2023-10-23T14:00:44.845098500Z",
     "start_time": "2023-10-23T14:00:44.817665500Z"
    }
   },
   "id": "54b0ec40aea1aaab"
  },
  {
   "cell_type": "code",
   "execution_count": 24,
   "outputs": [],
   "source": [
    "from sklearn.model_selection import train_test_split\n",
    "\n",
    "x_train,x_test,y_train,y_test=train_test_split(x,y,test_size=0.30,random_state=30)"
   ],
   "metadata": {
    "collapsed": false,
    "ExecuteTime": {
     "end_time": "2023-10-23T14:00:45.750886200Z",
     "start_time": "2023-10-23T14:00:45.629269200Z"
    }
   },
   "id": "b84d590d5a396fcf"
  },
  {
   "cell_type": "code",
   "execution_count": 25,
   "outputs": [],
   "source": [
    "x_train=pd.DataFrame(preprocessor.fit_transform(x_train),columns=preprocessor.get_feature_names_out())\n",
    "x_test=pd.DataFrame(preprocessor.transform(x_test),columns=preprocessor.get_feature_names_out())"
   ],
   "metadata": {
    "collapsed": false,
    "ExecuteTime": {
     "end_time": "2023-10-23T14:00:47.099569200Z",
     "start_time": "2023-10-23T14:00:46.489408800Z"
    }
   },
   "id": "c0584509fe9cd2bb"
  },
  {
   "cell_type": "code",
   "execution_count": 26,
   "outputs": [
    {
     "data": {
      "text/plain": "   num_pipeline__carat  num_pipeline__depth  num_pipeline__table  \\\n0            -0.975439            -0.849607            -0.121531   \n1             0.235195             1.833637            -0.121531   \n2             0.494617             0.815855             0.399800   \n3            -1.018676             0.260701             0.921131   \n4            -0.953821            -0.664555            -0.642862   \n\n   num_pipeline__x  num_pipeline__y  num_pipeline__z  cat_pipeline__cut  \\\n0        -1.042757        -1.080970        -1.123150           0.874076   \n1         0.318447         0.279859         0.485354          -2.144558   \n2         0.570855         0.606458         0.673737          -0.132136   \n3        -1.214034        -1.244270        -1.195605          -0.132136   \n4        -1.069801        -1.044681        -1.094168           0.874076   \n\n   cat_pipeline__color  cat_pipeline__clarity  \n0             1.528722               1.352731  \n1            -0.935071              -0.646786  \n2             0.296826               0.686225  \n3             0.296826               0.019720  \n4             2.144670               1.352731  ",
      "text/html": "<div>\n<style scoped>\n    .dataframe tbody tr th:only-of-type {\n        vertical-align: middle;\n    }\n\n    .dataframe tbody tr th {\n        vertical-align: top;\n    }\n\n    .dataframe thead th {\n        text-align: right;\n    }\n</style>\n<table border=\"1\" class=\"dataframe\">\n  <thead>\n    <tr style=\"text-align: right;\">\n      <th></th>\n      <th>num_pipeline__carat</th>\n      <th>num_pipeline__depth</th>\n      <th>num_pipeline__table</th>\n      <th>num_pipeline__x</th>\n      <th>num_pipeline__y</th>\n      <th>num_pipeline__z</th>\n      <th>cat_pipeline__cut</th>\n      <th>cat_pipeline__color</th>\n      <th>cat_pipeline__clarity</th>\n    </tr>\n  </thead>\n  <tbody>\n    <tr>\n      <th>0</th>\n      <td>-0.975439</td>\n      <td>-0.849607</td>\n      <td>-0.121531</td>\n      <td>-1.042757</td>\n      <td>-1.080970</td>\n      <td>-1.123150</td>\n      <td>0.874076</td>\n      <td>1.528722</td>\n      <td>1.352731</td>\n    </tr>\n    <tr>\n      <th>1</th>\n      <td>0.235195</td>\n      <td>1.833637</td>\n      <td>-0.121531</td>\n      <td>0.318447</td>\n      <td>0.279859</td>\n      <td>0.485354</td>\n      <td>-2.144558</td>\n      <td>-0.935071</td>\n      <td>-0.646786</td>\n    </tr>\n    <tr>\n      <th>2</th>\n      <td>0.494617</td>\n      <td>0.815855</td>\n      <td>0.399800</td>\n      <td>0.570855</td>\n      <td>0.606458</td>\n      <td>0.673737</td>\n      <td>-0.132136</td>\n      <td>0.296826</td>\n      <td>0.686225</td>\n    </tr>\n    <tr>\n      <th>3</th>\n      <td>-1.018676</td>\n      <td>0.260701</td>\n      <td>0.921131</td>\n      <td>-1.214034</td>\n      <td>-1.244270</td>\n      <td>-1.195605</td>\n      <td>-0.132136</td>\n      <td>0.296826</td>\n      <td>0.019720</td>\n    </tr>\n    <tr>\n      <th>4</th>\n      <td>-0.953821</td>\n      <td>-0.664555</td>\n      <td>-0.642862</td>\n      <td>-1.069801</td>\n      <td>-1.044681</td>\n      <td>-1.094168</td>\n      <td>0.874076</td>\n      <td>2.144670</td>\n      <td>1.352731</td>\n    </tr>\n  </tbody>\n</table>\n</div>"
     },
     "execution_count": 26,
     "metadata": {},
     "output_type": "execute_result"
    }
   ],
   "source": [
    "x_train.head()"
   ],
   "metadata": {
    "collapsed": false,
    "ExecuteTime": {
     "end_time": "2023-10-23T14:00:56.729764600Z",
     "start_time": "2023-10-23T14:00:56.636092100Z"
    }
   },
   "id": "435b7c3f8d5b07b7"
  },
  {
   "cell_type": "code",
   "execution_count": 27,
   "outputs": [
    {
     "data": {
      "text/plain": "   num_pipeline__carat  num_pipeline__depth  num_pipeline__table  \\\n0            -0.564688            -0.942132            -0.642862   \n1            -0.175556             1.000906            -0.121531   \n2            -1.061913             0.260701            -0.121531   \n3             0.970223            -0.201927             1.963794   \n4            -0.932202            -1.312235             0.399800   \n\n   num_pipeline__x  num_pipeline__y  num_pipeline__z  cat_pipeline__cut  \\\n0        -0.429765        -0.464061        -0.500036          -0.132136   \n1        -0.042137        -0.028595         0.036132          -1.138347   \n2        -1.304180        -1.298703        -1.268060           0.874076   \n3         1.048629         0.996563         0.978049          -0.132136   \n4        -1.006699        -0.990248        -1.065186          -0.132136   \n\n   cat_pipeline__color  cat_pipeline__clarity  \n0            -0.935071               0.019720  \n1             0.912774              -0.646786  \n2             0.912774               2.685743  \n3             0.296826               0.019720  \n4            -0.935071               0.686225  ",
      "text/html": "<div>\n<style scoped>\n    .dataframe tbody tr th:only-of-type {\n        vertical-align: middle;\n    }\n\n    .dataframe tbody tr th {\n        vertical-align: top;\n    }\n\n    .dataframe thead th {\n        text-align: right;\n    }\n</style>\n<table border=\"1\" class=\"dataframe\">\n  <thead>\n    <tr style=\"text-align: right;\">\n      <th></th>\n      <th>num_pipeline__carat</th>\n      <th>num_pipeline__depth</th>\n      <th>num_pipeline__table</th>\n      <th>num_pipeline__x</th>\n      <th>num_pipeline__y</th>\n      <th>num_pipeline__z</th>\n      <th>cat_pipeline__cut</th>\n      <th>cat_pipeline__color</th>\n      <th>cat_pipeline__clarity</th>\n    </tr>\n  </thead>\n  <tbody>\n    <tr>\n      <th>0</th>\n      <td>-0.564688</td>\n      <td>-0.942132</td>\n      <td>-0.642862</td>\n      <td>-0.429765</td>\n      <td>-0.464061</td>\n      <td>-0.500036</td>\n      <td>-0.132136</td>\n      <td>-0.935071</td>\n      <td>0.019720</td>\n    </tr>\n    <tr>\n      <th>1</th>\n      <td>-0.175556</td>\n      <td>1.000906</td>\n      <td>-0.121531</td>\n      <td>-0.042137</td>\n      <td>-0.028595</td>\n      <td>0.036132</td>\n      <td>-1.138347</td>\n      <td>0.912774</td>\n      <td>-0.646786</td>\n    </tr>\n    <tr>\n      <th>2</th>\n      <td>-1.061913</td>\n      <td>0.260701</td>\n      <td>-0.121531</td>\n      <td>-1.304180</td>\n      <td>-1.298703</td>\n      <td>-1.268060</td>\n      <td>0.874076</td>\n      <td>0.912774</td>\n      <td>2.685743</td>\n    </tr>\n    <tr>\n      <th>3</th>\n      <td>0.970223</td>\n      <td>-0.201927</td>\n      <td>1.963794</td>\n      <td>1.048629</td>\n      <td>0.996563</td>\n      <td>0.978049</td>\n      <td>-0.132136</td>\n      <td>0.296826</td>\n      <td>0.019720</td>\n    </tr>\n    <tr>\n      <th>4</th>\n      <td>-0.932202</td>\n      <td>-1.312235</td>\n      <td>0.399800</td>\n      <td>-1.006699</td>\n      <td>-0.990248</td>\n      <td>-1.065186</td>\n      <td>-0.132136</td>\n      <td>-0.935071</td>\n      <td>0.686225</td>\n    </tr>\n  </tbody>\n</table>\n</div>"
     },
     "execution_count": 27,
     "metadata": {},
     "output_type": "execute_result"
    }
   ],
   "source": [
    "x_test.head()"
   ],
   "metadata": {
    "collapsed": false,
    "ExecuteTime": {
     "end_time": "2023-10-23T14:01:06.840384800Z",
     "start_time": "2023-10-23T14:01:06.786774200Z"
    }
   },
   "id": "dcde2afc566b1a81"
  },
  {
   "cell_type": "code",
   "execution_count": 28,
   "outputs": [],
   "source": [
    "from sklearn.linear_model import LinearRegression,Ridge,Lasso,ElasticNet\n",
    "from sklearn.metrics import r2_score,mean_absolute_error,mean_squared_error"
   ],
   "metadata": {
    "collapsed": false,
    "ExecuteTime": {
     "end_time": "2023-10-23T14:02:43.079632700Z",
     "start_time": "2023-10-23T14:02:43.012271300Z"
    }
   },
   "id": "857b28b1ac080d29"
  },
  {
   "cell_type": "code",
   "execution_count": 29,
   "outputs": [
    {
     "data": {
      "text/plain": "LinearRegression()",
      "text/html": "<style>#sk-container-id-1 {color: black;}#sk-container-id-1 pre{padding: 0;}#sk-container-id-1 div.sk-toggleable {background-color: white;}#sk-container-id-1 label.sk-toggleable__label {cursor: pointer;display: block;width: 100%;margin-bottom: 0;padding: 0.3em;box-sizing: border-box;text-align: center;}#sk-container-id-1 label.sk-toggleable__label-arrow:before {content: \"▸\";float: left;margin-right: 0.25em;color: #696969;}#sk-container-id-1 label.sk-toggleable__label-arrow:hover:before {color: black;}#sk-container-id-1 div.sk-estimator:hover label.sk-toggleable__label-arrow:before {color: black;}#sk-container-id-1 div.sk-toggleable__content {max-height: 0;max-width: 0;overflow: hidden;text-align: left;background-color: #f0f8ff;}#sk-container-id-1 div.sk-toggleable__content pre {margin: 0.2em;color: black;border-radius: 0.25em;background-color: #f0f8ff;}#sk-container-id-1 input.sk-toggleable__control:checked~div.sk-toggleable__content {max-height: 200px;max-width: 100%;overflow: auto;}#sk-container-id-1 input.sk-toggleable__control:checked~label.sk-toggleable__label-arrow:before {content: \"▾\";}#sk-container-id-1 div.sk-estimator input.sk-toggleable__control:checked~label.sk-toggleable__label {background-color: #d4ebff;}#sk-container-id-1 div.sk-label input.sk-toggleable__control:checked~label.sk-toggleable__label {background-color: #d4ebff;}#sk-container-id-1 input.sk-hidden--visually {border: 0;clip: rect(1px 1px 1px 1px);clip: rect(1px, 1px, 1px, 1px);height: 1px;margin: -1px;overflow: hidden;padding: 0;position: absolute;width: 1px;}#sk-container-id-1 div.sk-estimator {font-family: monospace;background-color: #f0f8ff;border: 1px dotted black;border-radius: 0.25em;box-sizing: border-box;margin-bottom: 0.5em;}#sk-container-id-1 div.sk-estimator:hover {background-color: #d4ebff;}#sk-container-id-1 div.sk-parallel-item::after {content: \"\";width: 100%;border-bottom: 1px solid gray;flex-grow: 1;}#sk-container-id-1 div.sk-label:hover label.sk-toggleable__label {background-color: #d4ebff;}#sk-container-id-1 div.sk-serial::before {content: \"\";position: absolute;border-left: 1px solid gray;box-sizing: border-box;top: 0;bottom: 0;left: 50%;z-index: 0;}#sk-container-id-1 div.sk-serial {display: flex;flex-direction: column;align-items: center;background-color: white;padding-right: 0.2em;padding-left: 0.2em;position: relative;}#sk-container-id-1 div.sk-item {position: relative;z-index: 1;}#sk-container-id-1 div.sk-parallel {display: flex;align-items: stretch;justify-content: center;background-color: white;position: relative;}#sk-container-id-1 div.sk-item::before, #sk-container-id-1 div.sk-parallel-item::before {content: \"\";position: absolute;border-left: 1px solid gray;box-sizing: border-box;top: 0;bottom: 0;left: 50%;z-index: -1;}#sk-container-id-1 div.sk-parallel-item {display: flex;flex-direction: column;z-index: 1;position: relative;background-color: white;}#sk-container-id-1 div.sk-parallel-item:first-child::after {align-self: flex-end;width: 50%;}#sk-container-id-1 div.sk-parallel-item:last-child::after {align-self: flex-start;width: 50%;}#sk-container-id-1 div.sk-parallel-item:only-child::after {width: 0;}#sk-container-id-1 div.sk-dashed-wrapped {border: 1px dashed gray;margin: 0 0.4em 0.5em 0.4em;box-sizing: border-box;padding-bottom: 0.4em;background-color: white;}#sk-container-id-1 div.sk-label label {font-family: monospace;font-weight: bold;display: inline-block;line-height: 1.2em;}#sk-container-id-1 div.sk-label-container {text-align: center;}#sk-container-id-1 div.sk-container {/* jupyter's `normalize.less` sets `[hidden] { display: none; }` but bootstrap.min.css set `[hidden] { display: none !important; }` so we also need the `!important` here to be able to override the default hidden behavior on the sphinx rendered scikit-learn.org. See: https://github.com/scikit-learn/scikit-learn/issues/21755 */display: inline-block !important;position: relative;}#sk-container-id-1 div.sk-text-repr-fallback {display: none;}</style><div id=\"sk-container-id-1\" class=\"sk-top-container\"><div class=\"sk-text-repr-fallback\"><pre>LinearRegression()</pre><b>In a Jupyter environment, please rerun this cell to show the HTML representation or trust the notebook. <br />On GitHub, the HTML representation is unable to render, please try loading this page with nbviewer.org.</b></div><div class=\"sk-container\" hidden><div class=\"sk-item\"><div class=\"sk-estimator sk-toggleable\"><input class=\"sk-toggleable__control sk-hidden--visually\" id=\"sk-estimator-id-1\" type=\"checkbox\" checked><label for=\"sk-estimator-id-1\" class=\"sk-toggleable__label sk-toggleable__label-arrow\">LinearRegression</label><div class=\"sk-toggleable__content\"><pre>LinearRegression()</pre></div></div></div></div></div>"
     },
     "execution_count": 29,
     "metadata": {},
     "output_type": "execute_result"
    }
   ],
   "source": [
    "regression=LinearRegression()\n",
    "regression.fit(x_train,y_train)"
   ],
   "metadata": {
    "collapsed": false,
    "ExecuteTime": {
     "end_time": "2023-10-23T14:03:14.774201400Z",
     "start_time": "2023-10-23T14:03:14.658495400Z"
    }
   },
   "id": "fc42a62091ebc9ae"
  },
  {
   "cell_type": "code",
   "execution_count": 31,
   "outputs": [],
   "source": [
    "def evaluate_model(true,predicted):\n",
    "    mae=mean_absolute_error(true,predicted)\n",
    "    # mse=mean_squared_error(true,predicted)\n",
    "    rmse=np.sqrt(mean_squared_error(true,predicted))\n",
    "    r2=r2_score(true,predicted)\n",
    "    return mae,rmse,r2"
   ],
   "metadata": {
    "collapsed": false,
    "ExecuteTime": {
     "end_time": "2023-10-23T14:06:39.496906900Z",
     "start_time": "2023-10-23T14:06:39.450205800Z"
    }
   },
   "id": "749d9eaa4dbb208c"
  },
  {
   "cell_type": "code",
   "execution_count": 35,
   "outputs": [
    {
     "name": "stdout",
     "output_type": "stream",
     "text": [
      "L_R\n",
      "--Performance--\n",
      "MAE :  674.0255115796832\n",
      "Root_MSE :  1013.9047094344004\n",
      "R2 Score :  93.68908248567512\n",
      "+++++++++++++++++++++++++++++++++++\n",
      "\n",
      "Lasso\n",
      "--Performance--\n",
      "MAE :  675.0716923362158\n",
      "Root_MSE :  1013.8784226767013\n",
      "R2 Score :  93.68940971841704\n",
      "+++++++++++++++++++++++++++++++++++\n",
      "\n",
      "\n",
      "Ridge\n",
      "--Performance--\n",
      "MAE :  674.0555800798212\n",
      "Root_MSE :  1013.9059272771643\n",
      "R2 Score :  93.68906732505938\n",
      "+++++++++++++++++++++++++++++++++++\n",
      "\n",
      "\n",
      "Elastic\n",
      "--Performance--\n",
      "MAE :  1060.7368759154729\n",
      "Root_MSE :  1533.4162456064048\n",
      "R2 Score :  85.56494831165182\n",
      "+++++++++++++++++++++++++++++++++++\n"
     ]
    }
   ],
   "source": [
    "models={\n",
    "    'L_R':LinearRegression(),\n",
    "    'Lasso':Lasso(),\n",
    "    'Ridge':Ridge(),\n",
    "    'Elastic':ElasticNet()\n",
    "}\n",
    "trained_model_list=[]\n",
    "model_list=[]\n",
    "r2_list=[]\n",
    "\n",
    "for i in range(len(list(models))):\n",
    "    model=list(models.values())[i]\n",
    "    model.fit(x_train,y_train) #Training\n",
    "    \n",
    "    y_pred=model.predict(x_test)\n",
    "    mae,rmse,r2=evaluate_model(y_test,y_pred)\n",
    "    \n",
    "    print(list(models.keys())[i])\n",
    "    model_list.append(list(models.keys())[i])\n",
    "    \n",
    "    print(\"--Performance--\")\n",
    "    print(\"MAE : \",mae)\n",
    "    print(\"Root_MSE : \",rmse)\n",
    "    print(\"R2 Score : \",r2*100)\n",
    "    \n",
    "    r2_list.append(r2)\n",
    "    \n",
    "    print('+'*35)\n",
    "    print('\\n')\n",
    "    \n"
   ],
   "metadata": {
    "collapsed": false,
    "ExecuteTime": {
     "end_time": "2023-10-23T14:16:08.878915600Z",
     "start_time": "2023-10-23T14:16:07.076071500Z"
    }
   },
   "id": "6dbf75f568670ee8"
  },
  {
   "cell_type": "code",
   "execution_count": null,
   "outputs": [],
   "source": [],
   "metadata": {
    "collapsed": false
   },
   "id": "b2b5adecd4e986c"
  }
 ],
 "metadata": {
  "kernelspec": {
   "display_name": "Python 3",
   "language": "python",
   "name": "python3"
  },
  "language_info": {
   "codemirror_mode": {
    "name": "ipython",
    "version": 2
   },
   "file_extension": ".py",
   "mimetype": "text/x-python",
   "name": "python",
   "nbconvert_exporter": "python",
   "pygments_lexer": "ipython2",
   "version": "2.7.6"
  }
 },
 "nbformat": 4,
 "nbformat_minor": 5
}
